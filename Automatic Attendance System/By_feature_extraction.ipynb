{
  "cells": [
    {
      "cell_type": "code",
      "source": [
        "from google.colab import drive\n",
        "drive.mount('/content/drive')"
      ],
      "metadata": {
        "colab": {
          "base_uri": "https://localhost:8080/"
        },
        "id": "FiU0eK1_lLuL",
        "outputId": "999e0bab-c894-436f-db6c-9b5e791e3d6e"
      },
      "execution_count": 1,
      "outputs": [
        {
          "output_type": "stream",
          "name": "stdout",
          "text": [
            "Mounted at /content/drive\n"
          ]
        }
      ]
    },
    {
      "cell_type": "markdown",
      "source": [
        "# **Download a Folder**"
      ],
      "metadata": {
        "id": "jZ_Np_GGhG7D"
      }
    },
    {
      "cell_type": "code",
      "source": [
        "import shutil\n",
        "from google.colab import files\n",
        "\n",
        "# Specify the folder path to download\n",
        "folder_path_to_download = '/content/features_dataset_vgg16'\n",
        "\n",
        "# Create a zip file\n",
        "shutil.make_archive('downloaded_folder', 'zip', folder_path_to_download)\n",
        "\n",
        "# Move the zip file to /content\n",
        "shutil.move('downloaded_folder.zip', '/content/downloaded_folder.zip')\n",
        "\n",
        "# Provide a download link for the zip file\n",
        "files.download('/content/downloaded_folder.zip')\n"
      ],
      "metadata": {
        "colab": {
          "base_uri": "https://localhost:8080/",
          "height": 17
        },
        "id": "1q7S-scPhNRm",
        "outputId": "392cc708-63c5-49fa-b002-c728cdbe131b"
      },
      "execution_count": 25,
      "outputs": [
        {
          "output_type": "display_data",
          "data": {
            "text/plain": [
              "<IPython.core.display.Javascript object>"
            ],
            "application/javascript": [
              "\n",
              "    async function download(id, filename, size) {\n",
              "      if (!google.colab.kernel.accessAllowed) {\n",
              "        return;\n",
              "      }\n",
              "      const div = document.createElement('div');\n",
              "      const label = document.createElement('label');\n",
              "      label.textContent = `Downloading \"${filename}\": `;\n",
              "      div.appendChild(label);\n",
              "      const progress = document.createElement('progress');\n",
              "      progress.max = size;\n",
              "      div.appendChild(progress);\n",
              "      document.body.appendChild(div);\n",
              "\n",
              "      const buffers = [];\n",
              "      let downloaded = 0;\n",
              "\n",
              "      const channel = await google.colab.kernel.comms.open(id);\n",
              "      // Send a message to notify the kernel that we're ready.\n",
              "      channel.send({})\n",
              "\n",
              "      for await (const message of channel.messages) {\n",
              "        // Send a message to notify the kernel that we're ready.\n",
              "        channel.send({})\n",
              "        if (message.buffers) {\n",
              "          for (const buffer of message.buffers) {\n",
              "            buffers.push(buffer);\n",
              "            downloaded += buffer.byteLength;\n",
              "            progress.value = downloaded;\n",
              "          }\n",
              "        }\n",
              "      }\n",
              "      const blob = new Blob(buffers, {type: 'application/binary'});\n",
              "      const a = document.createElement('a');\n",
              "      a.href = window.URL.createObjectURL(blob);\n",
              "      a.download = filename;\n",
              "      div.appendChild(a);\n",
              "      a.click();\n",
              "      div.remove();\n",
              "    }\n",
              "  "
            ]
          },
          "metadata": {}
        },
        {
          "output_type": "display_data",
          "data": {
            "text/plain": [
              "<IPython.core.display.Javascript object>"
            ],
            "application/javascript": [
              "download(\"download_872b8512-fad0-4bcc-9e0a-7802db74d749\", \"downloaded_folder.zip\", 210015)"
            ]
          },
          "metadata": {}
        }
      ]
    },
    {
      "cell_type": "markdown",
      "source": [
        "# **Delete folder:**"
      ],
      "metadata": {
        "id": "4w5KHOvAnZ-U"
      }
    },
    {
      "cell_type": "code",
      "source": [
        "# import shutil\n",
        "# import os\n",
        "\n",
        "# def delete_folder(folder_path):\n",
        "#     try:\n",
        "#         shutil.rmtree(folder_path)\n",
        "#         print(f\"Folder '{folder_path}' and its contents have been successfully deleted.\")\n",
        "#     except FileNotFoundError:\n",
        "#         print(f\"Folder '{folder_path}' not found.\")\n",
        "#     except Exception as e:\n",
        "#         print(f\"An error occurred: {e}\")\n",
        "\n",
        "# # Example usage: Delete a folder named 'example_folder'\n",
        "# folder_to_delete = '/content/features_dataset'  # Replace with the actual path of the folder you want to delete\n",
        "# delete_folder(folder_to_delete)"
      ],
      "metadata": {
        "colab": {
          "base_uri": "https://localhost:8080/"
        },
        "id": "v2TLVO0pnYlS",
        "outputId": "08d95aec-2d25-4732-dbd2-8b60582c60e5"
      },
      "execution_count": null,
      "outputs": [
        {
          "output_type": "stream",
          "name": "stdout",
          "text": [
            "Folder '/content/features_dataset1' and its contents have been successfully deleted.\n"
          ]
        }
      ]
    },
    {
      "cell_type": "markdown",
      "source": [
        "# **preprocess dataset**"
      ],
      "metadata": {
        "id": "Rlmz4nwmlfCq"
      }
    },
    {
      "cell_type": "code",
      "source": [
        "!pip install dlib scikit-image"
      ],
      "metadata": {
        "colab": {
          "base_uri": "https://localhost:8080/"
        },
        "id": "AVi5r30rleR9",
        "outputId": "d96e5687-0123-48c7-d78f-9fdc06a7a031"
      },
      "execution_count": 2,
      "outputs": [
        {
          "output_type": "stream",
          "name": "stdout",
          "text": [
            "Requirement already satisfied: dlib in /usr/local/lib/python3.10/dist-packages (19.24.2)\n",
            "Requirement already satisfied: scikit-image in /usr/local/lib/python3.10/dist-packages (0.19.3)\n",
            "Requirement already satisfied: numpy>=1.17.0 in /usr/local/lib/python3.10/dist-packages (from scikit-image) (1.23.5)\n",
            "Requirement already satisfied: scipy>=1.4.1 in /usr/local/lib/python3.10/dist-packages (from scikit-image) (1.11.4)\n",
            "Requirement already satisfied: networkx>=2.2 in /usr/local/lib/python3.10/dist-packages (from scikit-image) (3.2.1)\n",
            "Requirement already satisfied: pillow!=7.1.0,!=7.1.1,!=8.3.0,>=6.1.0 in /usr/local/lib/python3.10/dist-packages (from scikit-image) (9.4.0)\n",
            "Requirement already satisfied: imageio>=2.4.1 in /usr/local/lib/python3.10/dist-packages (from scikit-image) (2.31.6)\n",
            "Requirement already satisfied: tifffile>=2019.7.26 in /usr/local/lib/python3.10/dist-packages (from scikit-image) (2023.12.9)\n",
            "Requirement already satisfied: PyWavelets>=1.1.1 in /usr/local/lib/python3.10/dist-packages (from scikit-image) (1.5.0)\n",
            "Requirement already satisfied: packaging>=20.0 in /usr/local/lib/python3.10/dist-packages (from scikit-image) (23.2)\n"
          ]
        }
      ]
    },
    {
      "cell_type": "code",
      "source": [
        "import zipfile\n",
        "import os\n",
        "import cv2\n",
        "import dlib\n",
        "from skimage import exposure\n",
        "from skimage import img_as_ubyte  # Added import for img_as_ubyte\n",
        "\n",
        "# Specify the name of your ZIP file\n",
        "zip_file_name = \"/content/drive/MyDrive/Project/Classmates.zip\"\n",
        "\n",
        "# Specify the directory where you want to extract the contents\n",
        "extracted_folder = \"/content/Classmates\"\n",
        "\n",
        "# Create the target directory if it doesn't exist\n",
        "os.makedirs(extracted_folder, exist_ok=True)\n",
        "\n",
        "# Extract the contents of the ZIP file\n",
        "with zipfile.ZipFile(zip_file_name, 'r') as zip_ref:\n",
        "    zip_ref.extractall(extracted_folder)\n",
        "\n",
        "# Check the extracted contents\n",
        "extracted_contents = os.listdir(extracted_folder)\n",
        "print(\"Extracted contents:\", extracted_contents)\n",
        "\n",
        "# Load face detector from dlib\n",
        "face_detector = dlib.get_frontal_face_detector()\n",
        "\n",
        "# Path to the directory containing raw images\n",
        "raw_dataset_path = \"/content/Classmates\"\n",
        "\n",
        "# Path to the directory where preprocessed images will be saved\n",
        "preprocessed_dataset_path = \"/content/preprocessed_dataset\"\n",
        "os.makedirs(preprocessed_dataset_path, exist_ok=True)\n",
        "\n",
        "# Iterate over class folders\n",
        "for class_folder in os.listdir(raw_dataset_path):\n",
        "    class_path = os.path.join(raw_dataset_path, class_folder)\n",
        "\n",
        "    # Create a folder for each class in the preprocessed dataset\n",
        "    preprocessed_class_path = os.path.join(preprocessed_dataset_path, class_folder)\n",
        "    os.makedirs(preprocessed_class_path, exist_ok=True)\n",
        "\n",
        "    # Iterate over images in the class folder\n",
        "    for image_name in os.listdir(class_path):\n",
        "        image_path = os.path.join(class_path, image_name)\n",
        "\n",
        "        # Read the image\n",
        "        img = cv2.imread(image_path)\n",
        "\n",
        "        # Convert the image to grayscale\n",
        "        gray = cv2.cvtColor(img, cv2.COLOR_BGR2GRAY)\n",
        "\n",
        "        # Detect faces using dlib\n",
        "        faces = face_detector(gray)\n",
        "\n",
        "        # Process each detected face\n",
        "        for i, face in enumerate(faces):\n",
        "            x, y, w, h = face.left(), face.top(), face.width(), face.height()\n",
        "\n",
        "            # Crop the face\n",
        "            cropped_face = img[y:y+h, x:x+w]\n",
        "\n",
        "            # Resize the face to a standard size\n",
        "            resized_face = cv2.resize(cropped_face, (224, 224))\n",
        "\n",
        "            # Normalize pixel values to a standard range (0 to 1)\n",
        "            normalized_face = resized_face / 255.0\n",
        "\n",
        "            # Save the preprocessed face\n",
        "            preprocessed_image_name = f\"{class_folder}_face{i+1}_{image_name}\"\n",
        "            preprocessed_image_path = os.path.join(preprocessed_class_path, preprocessed_image_name)\n",
        "\n",
        "            # Save the normalized face without converting to ubyte\n",
        "            cv2.imwrite(preprocessed_image_path, normalized_face)\n",
        "\n",
        "            # Augmentation: You can add additional data augmentation steps here if needed\n",
        "\n",
        "print(\"Preprocessing complete.\")\n"
      ],
      "metadata": {
        "colab": {
          "base_uri": "https://localhost:8080/"
        },
        "id": "dyUieUqjmK-5",
        "outputId": "ebc67e9b-8c6c-42af-aaf8-6a5829e59599"
      },
      "execution_count": 3,
      "outputs": [
        {
          "output_type": "stream",
          "name": "stdout",
          "text": [
            "Extracted contents: ['Umer', 'Shahab', 'Annas', 'Tehseen', 'Taha', 'Adan', 'Shah Wali']\n",
            "Preprocessing complete.\n"
          ]
        }
      ]
    },
    {
      "cell_type": "markdown",
      "source": [
        "# **Feature Extraction**"
      ],
      "metadata": {
        "id": "gK0vbU3NoHhQ"
      }
    },
    {
      "cell_type": "markdown",
      "source": [
        "## **Feature Extraction Using VGG16**"
      ],
      "metadata": {
        "id": "x552fG8iX9aW"
      }
    },
    {
      "cell_type": "code",
      "source": [
        "!pip install tensorflow numpy"
      ],
      "metadata": {
        "colab": {
          "base_uri": "https://localhost:8080/"
        },
        "id": "pwK3OBcWnwXg",
        "outputId": "e9b77d17-d9c6-43ba-c91a-8ec8165107f2"
      },
      "execution_count": 4,
      "outputs": [
        {
          "output_type": "stream",
          "name": "stdout",
          "text": [
            "Requirement already satisfied: tensorflow in /usr/local/lib/python3.10/dist-packages (2.15.0)\n",
            "Requirement already satisfied: numpy in /usr/local/lib/python3.10/dist-packages (1.23.5)\n",
            "Requirement already satisfied: absl-py>=1.0.0 in /usr/local/lib/python3.10/dist-packages (from tensorflow) (1.4.0)\n",
            "Requirement already satisfied: astunparse>=1.6.0 in /usr/local/lib/python3.10/dist-packages (from tensorflow) (1.6.3)\n",
            "Requirement already satisfied: flatbuffers>=23.5.26 in /usr/local/lib/python3.10/dist-packages (from tensorflow) (23.5.26)\n",
            "Requirement already satisfied: gast!=0.5.0,!=0.5.1,!=0.5.2,>=0.2.1 in /usr/local/lib/python3.10/dist-packages (from tensorflow) (0.5.4)\n",
            "Requirement already satisfied: google-pasta>=0.1.1 in /usr/local/lib/python3.10/dist-packages (from tensorflow) (0.2.0)\n",
            "Requirement already satisfied: h5py>=2.9.0 in /usr/local/lib/python3.10/dist-packages (from tensorflow) (3.9.0)\n",
            "Requirement already satisfied: libclang>=13.0.0 in /usr/local/lib/python3.10/dist-packages (from tensorflow) (16.0.6)\n",
            "Requirement already satisfied: ml-dtypes~=0.2.0 in /usr/local/lib/python3.10/dist-packages (from tensorflow) (0.2.0)\n",
            "Requirement already satisfied: opt-einsum>=2.3.2 in /usr/local/lib/python3.10/dist-packages (from tensorflow) (3.3.0)\n",
            "Requirement already satisfied: packaging in /usr/local/lib/python3.10/dist-packages (from tensorflow) (23.2)\n",
            "Requirement already satisfied: protobuf!=4.21.0,!=4.21.1,!=4.21.2,!=4.21.3,!=4.21.4,!=4.21.5,<5.0.0dev,>=3.20.3 in /usr/local/lib/python3.10/dist-packages (from tensorflow) (3.20.3)\n",
            "Requirement already satisfied: setuptools in /usr/local/lib/python3.10/dist-packages (from tensorflow) (67.7.2)\n",
            "Requirement already satisfied: six>=1.12.0 in /usr/local/lib/python3.10/dist-packages (from tensorflow) (1.16.0)\n",
            "Requirement already satisfied: termcolor>=1.1.0 in /usr/local/lib/python3.10/dist-packages (from tensorflow) (2.4.0)\n",
            "Requirement already satisfied: typing-extensions>=3.6.6 in /usr/local/lib/python3.10/dist-packages (from tensorflow) (4.5.0)\n",
            "Requirement already satisfied: wrapt<1.15,>=1.11.0 in /usr/local/lib/python3.10/dist-packages (from tensorflow) (1.14.1)\n",
            "Requirement already satisfied: tensorflow-io-gcs-filesystem>=0.23.1 in /usr/local/lib/python3.10/dist-packages (from tensorflow) (0.35.0)\n",
            "Requirement already satisfied: grpcio<2.0,>=1.24.3 in /usr/local/lib/python3.10/dist-packages (from tensorflow) (1.60.0)\n",
            "Requirement already satisfied: tensorboard<2.16,>=2.15 in /usr/local/lib/python3.10/dist-packages (from tensorflow) (2.15.1)\n",
            "Requirement already satisfied: tensorflow-estimator<2.16,>=2.15.0 in /usr/local/lib/python3.10/dist-packages (from tensorflow) (2.15.0)\n",
            "Requirement already satisfied: keras<2.16,>=2.15.0 in /usr/local/lib/python3.10/dist-packages (from tensorflow) (2.15.0)\n",
            "Requirement already satisfied: wheel<1.0,>=0.23.0 in /usr/local/lib/python3.10/dist-packages (from astunparse>=1.6.0->tensorflow) (0.42.0)\n",
            "Requirement already satisfied: google-auth<3,>=1.6.3 in /usr/local/lib/python3.10/dist-packages (from tensorboard<2.16,>=2.15->tensorflow) (2.17.3)\n",
            "Requirement already satisfied: google-auth-oauthlib<2,>=0.5 in /usr/local/lib/python3.10/dist-packages (from tensorboard<2.16,>=2.15->tensorflow) (1.2.0)\n",
            "Requirement already satisfied: markdown>=2.6.8 in /usr/local/lib/python3.10/dist-packages (from tensorboard<2.16,>=2.15->tensorflow) (3.5.1)\n",
            "Requirement already satisfied: requests<3,>=2.21.0 in /usr/local/lib/python3.10/dist-packages (from tensorboard<2.16,>=2.15->tensorflow) (2.31.0)\n",
            "Requirement already satisfied: tensorboard-data-server<0.8.0,>=0.7.0 in /usr/local/lib/python3.10/dist-packages (from tensorboard<2.16,>=2.15->tensorflow) (0.7.2)\n",
            "Requirement already satisfied: werkzeug>=1.0.1 in /usr/local/lib/python3.10/dist-packages (from tensorboard<2.16,>=2.15->tensorflow) (3.0.1)\n",
            "Requirement already satisfied: cachetools<6.0,>=2.0.0 in /usr/local/lib/python3.10/dist-packages (from google-auth<3,>=1.6.3->tensorboard<2.16,>=2.15->tensorflow) (5.3.2)\n",
            "Requirement already satisfied: pyasn1-modules>=0.2.1 in /usr/local/lib/python3.10/dist-packages (from google-auth<3,>=1.6.3->tensorboard<2.16,>=2.15->tensorflow) (0.3.0)\n",
            "Requirement already satisfied: rsa<5,>=3.1.4 in /usr/local/lib/python3.10/dist-packages (from google-auth<3,>=1.6.3->tensorboard<2.16,>=2.15->tensorflow) (4.9)\n",
            "Requirement already satisfied: requests-oauthlib>=0.7.0 in /usr/local/lib/python3.10/dist-packages (from google-auth-oauthlib<2,>=0.5->tensorboard<2.16,>=2.15->tensorflow) (1.3.1)\n",
            "Requirement already satisfied: charset-normalizer<4,>=2 in /usr/local/lib/python3.10/dist-packages (from requests<3,>=2.21.0->tensorboard<2.16,>=2.15->tensorflow) (3.3.2)\n",
            "Requirement already satisfied: idna<4,>=2.5 in /usr/local/lib/python3.10/dist-packages (from requests<3,>=2.21.0->tensorboard<2.16,>=2.15->tensorflow) (3.6)\n",
            "Requirement already satisfied: urllib3<3,>=1.21.1 in /usr/local/lib/python3.10/dist-packages (from requests<3,>=2.21.0->tensorboard<2.16,>=2.15->tensorflow) (2.0.7)\n",
            "Requirement already satisfied: certifi>=2017.4.17 in /usr/local/lib/python3.10/dist-packages (from requests<3,>=2.21.0->tensorboard<2.16,>=2.15->tensorflow) (2023.11.17)\n",
            "Requirement already satisfied: MarkupSafe>=2.1.1 in /usr/local/lib/python3.10/dist-packages (from werkzeug>=1.0.1->tensorboard<2.16,>=2.15->tensorflow) (2.1.3)\n",
            "Requirement already satisfied: pyasn1<0.6.0,>=0.4.6 in /usr/local/lib/python3.10/dist-packages (from pyasn1-modules>=0.2.1->google-auth<3,>=1.6.3->tensorboard<2.16,>=2.15->tensorflow) (0.5.1)\n",
            "Requirement already satisfied: oauthlib>=3.0.0 in /usr/local/lib/python3.10/dist-packages (from requests-oauthlib>=0.7.0->google-auth-oauthlib<2,>=0.5->tensorboard<2.16,>=2.15->tensorflow) (3.2.2)\n"
          ]
        }
      ]
    },
    {
      "cell_type": "code",
      "source": [
        "import tensorflow as tf\n",
        "from tensorflow.keras.applications.vgg16 import VGG16\n",
        "from tensorflow.keras.applications.vgg16 import preprocess_input\n",
        "from tensorflow.keras.models import Model\n",
        "import os\n",
        "import numpy as np\n",
        "\n",
        "# Path to the directory where preprocessed images are stored\n",
        "preprocessed_dataset_path = \"/content/preprocessed_dataset\"\n",
        "\n",
        "# Path to the directory where you want to save the extracted features\n",
        "features_dataset_path = \"/content/features_dataset_vgg16\"\n",
        "os.makedirs(features_dataset_path, exist_ok=True)\n",
        "\n",
        "# Load the VGG16 model pre-trained on 'imagenet' dataset\n",
        "base_model = VGG16(weights='imagenet', include_top=False, input_shape=(224, 224, 3))\n",
        "\n",
        "# Extract features using the VGG16 model\n",
        "def extract_features(img_path):\n",
        "    img = tf.keras.preprocessing.image.load_img(img_path, target_size=(224, 224))\n",
        "    img_array = tf.keras.preprocessing.image.img_to_array(img)\n",
        "    img_array = np.expand_dims(img_array, axis=0)\n",
        "    img_array = preprocess_input(img_array)\n",
        "    features = base_model.predict(img_array)\n",
        "    return features.flatten()\n",
        "\n",
        "# Iterate over preprocessed images and extract features\n",
        "for class_folder in os.listdir(preprocessed_dataset_path):\n",
        "    class_path = os.path.join(preprocessed_dataset_path, class_folder)\n",
        "\n",
        "    # Create a folder for each class in the features dataset\n",
        "    features_class_path = os.path.join(features_dataset_path, class_folder)\n",
        "    os.makedirs(features_class_path, exist_ok=True)\n",
        "\n",
        "    # Iterate over preprocessed images in the class folder\n",
        "    for image_name in os.listdir(class_path):\n",
        "        image_path = os.path.join(class_path, image_name)\n",
        "\n",
        "        # Extract features using VGG16\n",
        "        features = extract_features(image_path)\n",
        "\n",
        "        # Save the extracted features\n",
        "        features_file_name = f\"{class_folder}_features_{image_name.replace('.jpg', '.npy')}\"\n",
        "        features_file_path = os.path.join(features_class_path, features_file_name)\n",
        "        np.save(features_file_path, features)\n",
        "\n",
        "print(\"Feature extraction complete.\")"
      ],
      "metadata": {
        "colab": {
          "base_uri": "https://localhost:8080/"
        },
        "id": "HbCCXnd8oOSW",
        "outputId": "7d7ceaf0-4bea-4bef-fd3a-36bb5e7d9e99"
      },
      "execution_count": 5,
      "outputs": [
        {
          "output_type": "stream",
          "name": "stdout",
          "text": [
            "Downloading data from https://storage.googleapis.com/tensorflow/keras-applications/vgg16/vgg16_weights_tf_dim_ordering_tf_kernels_notop.h5\n",
            "58889256/58889256 [==============================] - 1s 0us/step\n",
            "1/1 [==============================] - 4s 4s/step\n",
            "1/1 [==============================] - 2s 2s/step\n",
            "1/1 [==============================] - 2s 2s/step\n",
            "1/1 [==============================] - 1s 1s/step\n",
            "1/1 [==============================] - 1s 576ms/step\n",
            "1/1 [==============================] - 1s 561ms/step\n",
            "1/1 [==============================] - 1s 532ms/step\n",
            "1/1 [==============================] - 1s 527ms/step\n",
            "1/1 [==============================] - 1s 543ms/step\n",
            "1/1 [==============================] - 1s 529ms/step\n",
            "1/1 [==============================] - 1s 550ms/step\n",
            "1/1 [==============================] - 1s 535ms/step\n",
            "1/1 [==============================] - 1s 537ms/step\n",
            "1/1 [==============================] - 1s 524ms/step\n",
            "1/1 [==============================] - 1s 539ms/step\n",
            "1/1 [==============================] - 1s 543ms/step\n",
            "1/1 [==============================] - 1s 540ms/step\n",
            "1/1 [==============================] - 1s 532ms/step\n",
            "1/1 [==============================] - 1s 835ms/step\n",
            "1/1 [==============================] - 1s 904ms/step\n",
            "1/1 [==============================] - 1s 925ms/step\n",
            "1/1 [==============================] - 1s 908ms/step\n",
            "1/1 [==============================] - 1s 944ms/step\n",
            "1/1 [==============================] - 1s 917ms/step\n",
            "1/1 [==============================] - 1s 787ms/step\n",
            "1/1 [==============================] - 1s 554ms/step\n",
            "1/1 [==============================] - 1s 519ms/step\n",
            "1/1 [==============================] - 1s 540ms/step\n",
            "1/1 [==============================] - 1s 539ms/step\n",
            "1/1 [==============================] - 1s 526ms/step\n",
            "1/1 [==============================] - 1s 542ms/step\n",
            "1/1 [==============================] - 1s 523ms/step\n",
            "1/1 [==============================] - 1s 551ms/step\n",
            "1/1 [==============================] - 1s 518ms/step\n",
            "1/1 [==============================] - 1s 541ms/step\n",
            "1/1 [==============================] - 1s 577ms/step\n",
            "1/1 [==============================] - 1s 548ms/step\n",
            "1/1 [==============================] - 1s 545ms/step\n",
            "1/1 [==============================] - 1s 521ms/step\n",
            "1/1 [==============================] - 1s 543ms/step\n",
            "1/1 [==============================] - 1s 527ms/step\n",
            "1/1 [==============================] - 1s 712ms/step\n",
            "1/1 [==============================] - 1s 918ms/step\n",
            "1/1 [==============================] - 1s 958ms/step\n",
            "1/1 [==============================] - 1s 858ms/step\n",
            "1/1 [==============================] - 1s 930ms/step\n",
            "1/1 [==============================] - 1s 988ms/step\n",
            "1/1 [==============================] - 1s 851ms/step\n",
            "1/1 [==============================] - 1s 568ms/step\n",
            "1/1 [==============================] - 1s 533ms/step\n",
            "1/1 [==============================] - 1s 546ms/step\n",
            "1/1 [==============================] - 1s 532ms/step\n",
            "1/1 [==============================] - 1s 540ms/step\n",
            "1/1 [==============================] - 1s 529ms/step\n",
            "1/1 [==============================] - 1s 549ms/step\n",
            "1/1 [==============================] - 1s 541ms/step\n",
            "1/1 [==============================] - 1s 526ms/step\n",
            "1/1 [==============================] - 1s 549ms/step\n",
            "1/1 [==============================] - 1s 528ms/step\n",
            "1/1 [==============================] - 1s 545ms/step\n",
            "Feature extraction complete.\n"
          ]
        }
      ]
    },
    {
      "cell_type": "markdown",
      "source": [
        "## **Feature extraction using FaceNet**"
      ],
      "metadata": {
        "id": "YqEVtMGMYZHh"
      }
    },
    {
      "cell_type": "code",
      "source": [
        "!pip install keras_vggface\n",
        "!pip install tensorflow numpy keras-vggface\n",
        "!pip install keras_applications\n",
        "!pip install facenet-pytorch\n",
        "!pip install mtcnn\n",
        "!pip install facenet-pytorch"
      ],
      "metadata": {
        "colab": {
          "base_uri": "https://localhost:8080/"
        },
        "id": "2vkBzrFssLt4",
        "outputId": "bb1745ab-7505-46b9-ad78-3ecec4113b29"
      },
      "execution_count": 6,
      "outputs": [
        {
          "output_type": "stream",
          "name": "stdout",
          "text": [
            "Collecting keras_vggface\n",
            "  Downloading keras_vggface-0.6-py3-none-any.whl (8.3 kB)\n",
            "Requirement already satisfied: numpy>=1.9.1 in /usr/local/lib/python3.10/dist-packages (from keras_vggface) (1.23.5)\n",
            "Requirement already satisfied: scipy>=0.14 in /usr/local/lib/python3.10/dist-packages (from keras_vggface) (1.11.4)\n",
            "Requirement already satisfied: h5py in /usr/local/lib/python3.10/dist-packages (from keras_vggface) (3.9.0)\n",
            "Requirement already satisfied: pillow in /usr/local/lib/python3.10/dist-packages (from keras_vggface) (9.4.0)\n",
            "Requirement already satisfied: keras in /usr/local/lib/python3.10/dist-packages (from keras_vggface) (2.15.0)\n",
            "Requirement already satisfied: six>=1.9.0 in /usr/local/lib/python3.10/dist-packages (from keras_vggface) (1.16.0)\n",
            "Requirement already satisfied: pyyaml in /usr/local/lib/python3.10/dist-packages (from keras_vggface) (6.0.1)\n",
            "Installing collected packages: keras_vggface\n",
            "Successfully installed keras_vggface-0.6\n",
            "Requirement already satisfied: tensorflow in /usr/local/lib/python3.10/dist-packages (2.15.0)\n",
            "Requirement already satisfied: numpy in /usr/local/lib/python3.10/dist-packages (1.23.5)\n",
            "Requirement already satisfied: keras-vggface in /usr/local/lib/python3.10/dist-packages (0.6)\n",
            "Requirement already satisfied: absl-py>=1.0.0 in /usr/local/lib/python3.10/dist-packages (from tensorflow) (1.4.0)\n",
            "Requirement already satisfied: astunparse>=1.6.0 in /usr/local/lib/python3.10/dist-packages (from tensorflow) (1.6.3)\n",
            "Requirement already satisfied: flatbuffers>=23.5.26 in /usr/local/lib/python3.10/dist-packages (from tensorflow) (23.5.26)\n",
            "Requirement already satisfied: gast!=0.5.0,!=0.5.1,!=0.5.2,>=0.2.1 in /usr/local/lib/python3.10/dist-packages (from tensorflow) (0.5.4)\n",
            "Requirement already satisfied: google-pasta>=0.1.1 in /usr/local/lib/python3.10/dist-packages (from tensorflow) (0.2.0)\n",
            "Requirement already satisfied: h5py>=2.9.0 in /usr/local/lib/python3.10/dist-packages (from tensorflow) (3.9.0)\n",
            "Requirement already satisfied: libclang>=13.0.0 in /usr/local/lib/python3.10/dist-packages (from tensorflow) (16.0.6)\n",
            "Requirement already satisfied: ml-dtypes~=0.2.0 in /usr/local/lib/python3.10/dist-packages (from tensorflow) (0.2.0)\n",
            "Requirement already satisfied: opt-einsum>=2.3.2 in /usr/local/lib/python3.10/dist-packages (from tensorflow) (3.3.0)\n",
            "Requirement already satisfied: packaging in /usr/local/lib/python3.10/dist-packages (from tensorflow) (23.2)\n",
            "Requirement already satisfied: protobuf!=4.21.0,!=4.21.1,!=4.21.2,!=4.21.3,!=4.21.4,!=4.21.5,<5.0.0dev,>=3.20.3 in /usr/local/lib/python3.10/dist-packages (from tensorflow) (3.20.3)\n",
            "Requirement already satisfied: setuptools in /usr/local/lib/python3.10/dist-packages (from tensorflow) (67.7.2)\n",
            "Requirement already satisfied: six>=1.12.0 in /usr/local/lib/python3.10/dist-packages (from tensorflow) (1.16.0)\n",
            "Requirement already satisfied: termcolor>=1.1.0 in /usr/local/lib/python3.10/dist-packages (from tensorflow) (2.4.0)\n",
            "Requirement already satisfied: typing-extensions>=3.6.6 in /usr/local/lib/python3.10/dist-packages (from tensorflow) (4.5.0)\n",
            "Requirement already satisfied: wrapt<1.15,>=1.11.0 in /usr/local/lib/python3.10/dist-packages (from tensorflow) (1.14.1)\n",
            "Requirement already satisfied: tensorflow-io-gcs-filesystem>=0.23.1 in /usr/local/lib/python3.10/dist-packages (from tensorflow) (0.35.0)\n",
            "Requirement already satisfied: grpcio<2.0,>=1.24.3 in /usr/local/lib/python3.10/dist-packages (from tensorflow) (1.60.0)\n",
            "Requirement already satisfied: tensorboard<2.16,>=2.15 in /usr/local/lib/python3.10/dist-packages (from tensorflow) (2.15.1)\n",
            "Requirement already satisfied: tensorflow-estimator<2.16,>=2.15.0 in /usr/local/lib/python3.10/dist-packages (from tensorflow) (2.15.0)\n",
            "Requirement already satisfied: keras<2.16,>=2.15.0 in /usr/local/lib/python3.10/dist-packages (from tensorflow) (2.15.0)\n",
            "Requirement already satisfied: scipy>=0.14 in /usr/local/lib/python3.10/dist-packages (from keras-vggface) (1.11.4)\n",
            "Requirement already satisfied: pillow in /usr/local/lib/python3.10/dist-packages (from keras-vggface) (9.4.0)\n",
            "Requirement already satisfied: pyyaml in /usr/local/lib/python3.10/dist-packages (from keras-vggface) (6.0.1)\n",
            "Requirement already satisfied: wheel<1.0,>=0.23.0 in /usr/local/lib/python3.10/dist-packages (from astunparse>=1.6.0->tensorflow) (0.42.0)\n",
            "Requirement already satisfied: google-auth<3,>=1.6.3 in /usr/local/lib/python3.10/dist-packages (from tensorboard<2.16,>=2.15->tensorflow) (2.17.3)\n",
            "Requirement already satisfied: google-auth-oauthlib<2,>=0.5 in /usr/local/lib/python3.10/dist-packages (from tensorboard<2.16,>=2.15->tensorflow) (1.2.0)\n",
            "Requirement already satisfied: markdown>=2.6.8 in /usr/local/lib/python3.10/dist-packages (from tensorboard<2.16,>=2.15->tensorflow) (3.5.1)\n",
            "Requirement already satisfied: requests<3,>=2.21.0 in /usr/local/lib/python3.10/dist-packages (from tensorboard<2.16,>=2.15->tensorflow) (2.31.0)\n",
            "Requirement already satisfied: tensorboard-data-server<0.8.0,>=0.7.0 in /usr/local/lib/python3.10/dist-packages (from tensorboard<2.16,>=2.15->tensorflow) (0.7.2)\n",
            "Requirement already satisfied: werkzeug>=1.0.1 in /usr/local/lib/python3.10/dist-packages (from tensorboard<2.16,>=2.15->tensorflow) (3.0.1)\n",
            "Requirement already satisfied: cachetools<6.0,>=2.0.0 in /usr/local/lib/python3.10/dist-packages (from google-auth<3,>=1.6.3->tensorboard<2.16,>=2.15->tensorflow) (5.3.2)\n",
            "Requirement already satisfied: pyasn1-modules>=0.2.1 in /usr/local/lib/python3.10/dist-packages (from google-auth<3,>=1.6.3->tensorboard<2.16,>=2.15->tensorflow) (0.3.0)\n",
            "Requirement already satisfied: rsa<5,>=3.1.4 in /usr/local/lib/python3.10/dist-packages (from google-auth<3,>=1.6.3->tensorboard<2.16,>=2.15->tensorflow) (4.9)\n",
            "Requirement already satisfied: requests-oauthlib>=0.7.0 in /usr/local/lib/python3.10/dist-packages (from google-auth-oauthlib<2,>=0.5->tensorboard<2.16,>=2.15->tensorflow) (1.3.1)\n",
            "Requirement already satisfied: charset-normalizer<4,>=2 in /usr/local/lib/python3.10/dist-packages (from requests<3,>=2.21.0->tensorboard<2.16,>=2.15->tensorflow) (3.3.2)\n",
            "Requirement already satisfied: idna<4,>=2.5 in /usr/local/lib/python3.10/dist-packages (from requests<3,>=2.21.0->tensorboard<2.16,>=2.15->tensorflow) (3.6)\n",
            "Requirement already satisfied: urllib3<3,>=1.21.1 in /usr/local/lib/python3.10/dist-packages (from requests<3,>=2.21.0->tensorboard<2.16,>=2.15->tensorflow) (2.0.7)\n",
            "Requirement already satisfied: certifi>=2017.4.17 in /usr/local/lib/python3.10/dist-packages (from requests<3,>=2.21.0->tensorboard<2.16,>=2.15->tensorflow) (2023.11.17)\n",
            "Requirement already satisfied: MarkupSafe>=2.1.1 in /usr/local/lib/python3.10/dist-packages (from werkzeug>=1.0.1->tensorboard<2.16,>=2.15->tensorflow) (2.1.3)\n",
            "Requirement already satisfied: pyasn1<0.6.0,>=0.4.6 in /usr/local/lib/python3.10/dist-packages (from pyasn1-modules>=0.2.1->google-auth<3,>=1.6.3->tensorboard<2.16,>=2.15->tensorflow) (0.5.1)\n",
            "Requirement already satisfied: oauthlib>=3.0.0 in /usr/local/lib/python3.10/dist-packages (from requests-oauthlib>=0.7.0->google-auth-oauthlib<2,>=0.5->tensorboard<2.16,>=2.15->tensorflow) (3.2.2)\n",
            "Collecting keras_applications\n",
            "  Downloading Keras_Applications-1.0.8-py3-none-any.whl (50 kB)\n",
            "\u001b[2K     \u001b[90m━━━━━━━━━━━━━━━━━━━━━━━━━━━━━━━━━━━━━━━━\u001b[0m \u001b[32m50.7/50.7 kB\u001b[0m \u001b[31m721.1 kB/s\u001b[0m eta \u001b[36m0:00:00\u001b[0m\n",
            "\u001b[?25hRequirement already satisfied: numpy>=1.9.1 in /usr/local/lib/python3.10/dist-packages (from keras_applications) (1.23.5)\n",
            "Requirement already satisfied: h5py in /usr/local/lib/python3.10/dist-packages (from keras_applications) (3.9.0)\n",
            "Installing collected packages: keras_applications\n",
            "Successfully installed keras_applications-1.0.8\n"
          ]
        }
      ]
    },
    {
      "cell_type": "code",
      "source": [
        "import os\n",
        "import cv2\n",
        "import torch\n",
        "import numpy as np\n",
        "from facenet_pytorch import InceptionResnetV1, MTCNN, extract_face\n",
        "\n",
        "# Load pre-trained face recognition model\n",
        "model = InceptionResnetV1(pretrained='vggface2').eval()\n",
        "\n",
        "# Path to the directory where preprocessed images are stored\n",
        "preprocessed_dataset_path = \"/content/preprocessed_dataset\"\n",
        "\n",
        "# Path to the directory where you want to save the extracted features\n",
        "features_dataset_path = \"/content/features_dataset_facenet\"\n",
        "os.makedirs(features_dataset_path, exist_ok=True)\n",
        "\n",
        "# Function to extract features using facenet\n",
        "def extract_features_facenet(img_path):\n",
        "    img = cv2.imread(img_path)\n",
        "\n",
        "    # Convert BGR image to RGB\n",
        "    img_rgb = cv2.cvtColor(img, cv2.COLOR_BGR2RGB)\n",
        "\n",
        "    # Resize the face to a standard size\n",
        "    resized_face = cv2.resize(img_rgb, (160, 160))\n",
        "\n",
        "    # Normalize pixel values to a standard range (0 to 1)\n",
        "    normalized_face = resized_face / 255.0\n",
        "\n",
        "    # Convert to PyTorch tensor\n",
        "    tensor_face = torch.from_numpy(normalized_face).unsqueeze(0).permute(0, 3, 1, 2).float()\n",
        "\n",
        "    # Forward pass to get the features\n",
        "    features = model(tensor_face)\n",
        "\n",
        "    return features.squeeze().detach().numpy()\n",
        "\n",
        "# Update the feature extraction loop\n",
        "for class_folder in os.listdir(preprocessed_dataset_path):\n",
        "    class_path = os.path.join(preprocessed_dataset_path, class_folder)\n",
        "\n",
        "    # Create a folder for each class in the features dataset\n",
        "    features_class_path = os.path.join(features_dataset_path, class_folder)\n",
        "    os.makedirs(features_class_path, exist_ok=True)\n",
        "\n",
        "    # Iterate over preprocessed images in the class folder\n",
        "    for image_name in os.listdir(class_path):\n",
        "        image_path = os.path.join(class_path, image_name)\n",
        "\n",
        "        # Extract features using facenet\n",
        "        features = extract_features_facenet(image_path)\n",
        "\n",
        "        print(f\"Processing {image_name}\")\n",
        "        print(f\"Shape of features extracted: {features.shape}\")\n",
        "\n",
        "        # Save the extracted features\n",
        "        features_file_name = f\"{class_folder}_features_{image_name.replace('.jpg', '.npy')}\"\n",
        "        features_file_path = os.path.join(features_class_path, features_file_name)\n",
        "        np.save(features_file_path, features)\n",
        "\n",
        "print(\"Facenet Feature extraction complete.\")\n"
      ],
      "metadata": {
        "colab": {
          "base_uri": "https://localhost:8080/",
          "height": 1000,
          "referenced_widgets": [
            "d3a2f232f4b5433eb97e260a821a4213",
            "77d2b5f91b904b49986dd979fe0d72a8",
            "edb313497b0041b68d3afae621e6ffb7",
            "e86c2e017dfc4e2fb99df1a91b501b62",
            "35cfbaf2ce64422b92828455a3533310",
            "41bcbcbad6d04583964f32b36a2a296a",
            "22facc5f75e04cffb3b0fd38ba377e14",
            "f4b1e9e262c74398a63a556d4a78d0dc",
            "625888d1175544df86e1a78142eb7b5c",
            "fa09f119945646ec9c9bf85fcc74cfec",
            "9fa3a1975e4049ebb42ce9a3febb4531"
          ]
        },
        "id": "dVoA_9JUv93f",
        "outputId": "81dfd3c2-1d36-4015-cecb-5e30562b73cc"
      },
      "execution_count": 8,
      "outputs": [
        {
          "output_type": "display_data",
          "data": {
            "text/plain": [
              "  0%|          | 0.00/107M [00:00<?, ?B/s]"
            ],
            "application/vnd.jupyter.widget-view+json": {
              "version_major": 2,
              "version_minor": 0,
              "model_id": "d3a2f232f4b5433eb97e260a821a4213"
            }
          },
          "metadata": {}
        },
        {
          "output_type": "stream",
          "name": "stdout",
          "text": [
            "Processing Umer_face1_WhatsApp Image 2024-01-02 at 6.06.38 PM.jpeg\n",
            "Shape of features extracted: (512,)\n",
            "Processing Umer_face1_WhatsApp Image 2024-01-02 at 6.06.48 PM (1).jpeg\n",
            "Shape of features extracted: (512,)\n",
            "Processing Umer_face1_WhatsApp Image 2024-01-02 at 6.06.47 PM.jpeg\n",
            "Shape of features extracted: (512,)\n",
            "Processing Umer_face1_WhatsApp Image 2024-01-02 at 6.06.48 PM.jpeg\n",
            "Shape of features extracted: (512,)\n",
            "Processing Umer_face1_WhatsApp Image 2024-01-02 at 6.06.41 PM.jpeg\n",
            "Shape of features extracted: (512,)\n",
            "Processing Shahab_face1_WhatsApp Image 2024-01-05 at 8.10.48 PM.jpeg\n",
            "Shape of features extracted: (512,)\n",
            "Processing Shahab_face1_WhatsApp Image 2024-01-02 at 6.07.07 PM (1).jpeg\n",
            "Shape of features extracted: (512,)\n",
            "Processing Shahab_face1_WhatsApp Image 2024-01-02 at 6.07.08 PM.jpeg\n",
            "Shape of features extracted: (512,)\n",
            "Processing Shahab_face1_WhatsApp Image 2024-01-02 at 6.07.05 PM.jpeg\n",
            "Shape of features extracted: (512,)\n",
            "Processing Shahab_face1_WhatsApp Image 2024-01-05 at 7.30.15 PM.jpeg\n",
            "Shape of features extracted: (512,)\n",
            "Processing Shahab_face1_WhatsApp Image 2024-01-02 at 6.07.07 PM.jpeg\n",
            "Shape of features extracted: (512,)\n",
            "Processing Shahab_face1_WhatsApp Image 2024-01-02 at 6.07.03 PM.jpeg\n",
            "Shape of features extracted: (512,)\n",
            "Processing Shahab_face1_WhatsApp Image 2024-01-05 at 8.10.32 PM.jpeg\n",
            "Shape of features extracted: (512,)\n",
            "Processing Shahab_face1_WhatsApp Image 2024-01-02 at 6.07.06 PM.jpeg\n",
            "Shape of features extracted: (512,)\n",
            "Processing Annas_face1_WhatsApp Image 2024-01-02 at 6.07.02 PM.jpeg\n",
            "Shape of features extracted: (512,)\n",
            "Processing Annas_face1_WhatsApp Image 2024-01-02 at 6.06.59 PM.jpeg\n",
            "Shape of features extracted: (512,)\n",
            "Processing Annas_face1_WhatsApp Image 2024-01-05 at 7.30.12 PM.jpeg\n",
            "Shape of features extracted: (512,)\n",
            "Processing Annas_face1_WhatsApp Image 2024-01-05 at 7.30.52 PM.jpeg\n",
            "Shape of features extracted: (512,)\n",
            "Processing Annas_face1_WhatsApp Image 2024-01-02 at 6.06.58 PM.jpeg\n",
            "Shape of features extracted: (512,)\n",
            "Processing Annas_face1_WhatsApp Image 2024-01-02 at 6.07.00 PM.jpeg\n",
            "Shape of features extracted: (512,)\n",
            "Processing Tehseen_face1_WhatsApp Image 2024-01-05 at 8.10.47 PM.jpeg\n",
            "Shape of features extracted: (512,)\n",
            "Processing Tehseen_face1_WhatsApp Image 2024-01-05 at 7.30.53 PM.jpeg\n",
            "Shape of features extracted: (512,)\n",
            "Processing Tehseen_face1_WhatsApp Image 2024-01-02 at 6.07.16 PM (1).jpeg\n",
            "Shape of features extracted: (512,)\n",
            "Processing Tehseen_face1_WhatsApp Image 2024-01-05 at 7.28.20 PM.jpeg\n",
            "Shape of features extracted: (512,)\n",
            "Processing Tehseen_face1_WhatsApp Image 2024-01-02 at 6.07.12 PM.jpeg\n",
            "Shape of features extracted: (512,)\n",
            "Processing Tehseen_face1_WhatsApp Image 2024-01-05 at 8.10.35 PM.jpeg\n",
            "Shape of features extracted: (512,)\n",
            "Processing Tehseen_face1_WhatsApp Image 2024-01-02 at 6.07.19 PM.jpeg\n",
            "Shape of features extracted: (512,)\n",
            "Processing Tehseen_face1_WhatsApp Image 2024-01-05 at 8.10.37 PM.jpeg\n",
            "Shape of features extracted: (512,)\n",
            "Processing Tehseen_face1_WhatsApp Image 2024-01-02 at 6.07.16 PM.jpeg\n",
            "Shape of features extracted: (512,)\n",
            "Processing Tehseen_face1_WhatsApp Image 2024-01-02 at 6.07.14 PM.jpeg\n",
            "Shape of features extracted: (512,)\n",
            "Processing Tehseen_face1_WhatsApp Image 2024-01-02 at 6.07.17 PM.jpeg\n",
            "Shape of features extracted: (512,)\n",
            "Processing Tehseen_face1_WhatsApp Image 2024-01-02 at 6.07.13 PM.jpeg\n",
            "Shape of features extracted: (512,)\n",
            "Processing Taha_face1_WhatsApp Image 2024-01-02 at 6.07.11 PM.jpeg\n",
            "Shape of features extracted: (512,)\n",
            "Processing Taha_face1_WhatsApp Image 2024-01-02 at 6.07.44 PM.jpeg\n",
            "Shape of features extracted: (512,)\n",
            "Processing Taha_face1_WhatsApp Image 2024-01-02 at 6.07.10 PM.jpeg\n",
            "Shape of features extracted: (512,)\n",
            "Processing Taha_face1_WhatsApp Image 2024-01-02 at 6.07.34 PM.jpeg\n",
            "Shape of features extracted: (512,)\n",
            "Processing Taha_face1_WhatsApp Image 2024-01-02 at 6.07.45 PM (1).jpeg\n",
            "Shape of features extracted: (512,)\n",
            "Processing Taha_face2_WhatsApp Image 2024-01-02 at 6.07.44 PM.jpeg\n",
            "Shape of features extracted: (512,)\n",
            "Processing Taha_face1_WhatsApp Image 2024-01-02 at 6.07.45 PM (2).jpeg\n",
            "Shape of features extracted: (512,)\n",
            "Processing Taha_face1_WhatsApp Image 2024-01-02 at 6.07.45 PM.jpeg\n",
            "Shape of features extracted: (512,)\n",
            "Processing Adan_face1_WhatsApp Image 2024-01-05 at 8.10.45 PM (1).jpeg\n",
            "Shape of features extracted: (512,)\n",
            "Processing Adan_face1_WhatsApp Image 2024-01-02 at 6.07.27 PM.jpeg\n",
            "Shape of features extracted: (512,)\n",
            "Processing Adan_face1_WhatsApp Image 2024-01-05 at 8.10.49 PM.jpeg\n",
            "Shape of features extracted: (512,)\n",
            "Processing Adan_face1_WhatsApp Image 2024-01-02 at 6.07.24 PM.jpeg\n",
            "Shape of features extracted: (512,)\n",
            "Processing Adan_face1_WhatsApp Image 2024-01-02 at 6.07.27 PM (1).jpeg\n",
            "Shape of features extracted: (512,)\n",
            "Processing Adan_face1_WhatsApp Image 2024-01-02 at 6.07.26 PM.jpeg\n",
            "Shape of features extracted: (512,)\n",
            "Processing Adan_face1_WhatsApp Image 2024-01-02 at 6.07.22 PM.jpeg\n",
            "Shape of features extracted: (512,)\n",
            "Processing Adan_face1_WhatsApp Image 2024-01-05 at 7.28.53 PM.jpeg\n",
            "Shape of features extracted: (512,)\n",
            "Processing Adan_face1_WhatsApp Image 2024-01-02 at 6.07.23 PM.jpeg\n",
            "Shape of features extracted: (512,)\n",
            "Processing Adan_face1_WhatsApp Image 2024-01-05 at 8.10.46 PM.jpeg\n",
            "Shape of features extracted: (512,)\n",
            "Processing Adan_face1_WhatsApp Image 2024-01-05 at 8.10.50 PM (1).jpeg\n",
            "Shape of features extracted: (512,)\n",
            "Processing Shah Wali_face1_WhatsApp Image 2024-01-05 at 7.30.20 PM.jpeg\n",
            "Shape of features extracted: (512,)\n",
            "Processing Shah Wali_face1_WhatsApp Image 2024-01-02 at 6.06.50 PM.jpeg\n",
            "Shape of features extracted: (512,)\n",
            "Processing Shah Wali_face1_WhatsApp Image 2024-01-02 at 6.06.55 PM.jpeg\n",
            "Shape of features extracted: (512,)\n",
            "Processing Shah Wali_face1_WhatsApp Image 2024-01-05 at 7.30.29 PM.jpeg\n",
            "Shape of features extracted: (512,)\n",
            "Processing Shah Wali_face1_WhatsApp Image 2024-01-02 at 6.06.49 PM (1).jpeg\n",
            "Shape of features extracted: (512,)\n",
            "Processing Shah Wali_face1_WhatsApp Image 2024-01-05 at 7.26.09 PM.jpeg\n",
            "Shape of features extracted: (512,)\n",
            "Processing Shah Wali_face1_WhatsApp Image 2024-01-02 at 6.06.49 PM.jpeg\n",
            "Shape of features extracted: (512,)\n",
            "Processing Shah Wali_face1_WhatsApp Image 2024-01-02 at 6.06.54 PM.jpeg\n",
            "Shape of features extracted: (512,)\n",
            "Processing Shah Wali_face1_WhatsApp Image 2024-01-02 at 6.06.52 PM.jpeg\n",
            "Shape of features extracted: (512,)\n",
            "Facenet Feature extraction complete.\n"
          ]
        }
      ]
    },
    {
      "cell_type": "markdown",
      "source": [
        "# **Train a Classifier on VGG16 extracted features data**"
      ],
      "metadata": {
        "id": "PH798dOsp-85"
      }
    },
    {
      "cell_type": "markdown",
      "source": [
        "## **Train SVM**"
      ],
      "metadata": {
        "id": "VzCeQZDwZwUf"
      }
    },
    {
      "cell_type": "code",
      "source": [
        "from sklearn.svm import SVC\n",
        "from sklearn.model_selection import train_test_split\n",
        "from sklearn.metrics import accuracy_score, confusion_matrix, classification_report\n",
        "import joblib\n",
        "\n",
        "# Load saved features and corresponding labels\n",
        "X, y = [], []\n",
        "features_dataset_path = '/content/features_dataset_vgg16'\n",
        "for class_folder in os.listdir(features_dataset_path):\n",
        "    class_path = os.path.join(features_dataset_path, class_folder)\n",
        "    for features_file_name in os.listdir(class_path):\n",
        "        features_file_path = os.path.join(class_path, features_file_name)\n",
        "        features = np.load(features_file_path)\n",
        "        X.append(features)\n",
        "        y.append(class_folder)\n",
        "\n",
        "# Split the dataset\n",
        "X_train, X_test, y_train, y_test = train_test_split(X, y, test_size=0.2, random_state=42)\n",
        "\n",
        "# Train an SVM classifier\n",
        "classifier = SVC(kernel='linear')\n",
        "classifier.fit(X_train, y_train)\n",
        "\n",
        "# Make predictions on the test set\n",
        "y_pred = classifier.predict(X_test)\n",
        "\n",
        "# Evaluate accuracy\n",
        "accuracy = accuracy_score(y_test, y_pred)\n",
        "print(f\"Accuracy: {accuracy}\")\n",
        "\n",
        "# Print the confusion matrix\n",
        "conf_matrix = confusion_matrix(y_test, y_pred)\n",
        "print(\"Confusion Matrix:\")\n",
        "print(conf_matrix)\n",
        "\n",
        "# Print the classification report\n",
        "class_report = classification_report(y_test, y_pred)\n",
        "print(\"Classification Report:\")\n",
        "print(class_report)\n",
        "\n",
        "# Save the trained SVM model\n",
        "model_filename = \"svm_model.pkl\"\n",
        "\n",
        "# Check if a saved model exists, delete it if it does\n",
        "if os.path.exists(model_filename):\n",
        "    os.remove(model_filename)\n",
        "\n",
        "# Save the new model\n",
        "joblib.dump(classifier, model_filename)\n",
        "print(f\"Model saved as {model_filename}\")\n"
      ],
      "metadata": {
        "colab": {
          "base_uri": "https://localhost:8080/"
        },
        "id": "F_J53-Y0bPjk",
        "outputId": "20dac32f-a689-4726-9893-da25d46e27d5"
      },
      "execution_count": 13,
      "outputs": [
        {
          "output_type": "stream",
          "name": "stdout",
          "text": [
            "Accuracy: 0.25\n",
            "Confusion Matrix:\n",
            "[[1 0 1 0 0 2 0]\n",
            " [0 0 0 0 0 0 0]\n",
            " [1 0 1 0 0 0 0]\n",
            " [0 1 0 0 0 2 0]\n",
            " [1 0 0 0 1 0 0]\n",
            " [0 0 0 0 0 0 0]\n",
            " [0 0 0 0 0 1 0]]\n",
            "Classification Report:\n",
            "              precision    recall  f1-score   support\n",
            "\n",
            "        Adan       0.33      0.25      0.29         4\n",
            "       Annas       0.00      0.00      0.00         0\n",
            "   Shah Wali       0.50      0.50      0.50         2\n",
            "      Shahab       0.00      0.00      0.00         3\n",
            "        Taha       1.00      0.50      0.67         2\n",
            "     Tehseen       0.00      0.00      0.00         0\n",
            "        Umer       0.00      0.00      0.00         1\n",
            "\n",
            "    accuracy                           0.25        12\n",
            "   macro avg       0.26      0.18      0.21        12\n",
            "weighted avg       0.36      0.25      0.29        12\n",
            "\n",
            "Model saved as svm_model.pkl\n"
          ]
        },
        {
          "output_type": "stream",
          "name": "stderr",
          "text": [
            "/usr/local/lib/python3.10/dist-packages/sklearn/metrics/_classification.py:1344: UndefinedMetricWarning: Precision and F-score are ill-defined and being set to 0.0 in labels with no predicted samples. Use `zero_division` parameter to control this behavior.\n",
            "  _warn_prf(average, modifier, msg_start, len(result))\n",
            "/usr/local/lib/python3.10/dist-packages/sklearn/metrics/_classification.py:1344: UndefinedMetricWarning: Recall and F-score are ill-defined and being set to 0.0 in labels with no true samples. Use `zero_division` parameter to control this behavior.\n",
            "  _warn_prf(average, modifier, msg_start, len(result))\n",
            "/usr/local/lib/python3.10/dist-packages/sklearn/metrics/_classification.py:1344: UndefinedMetricWarning: Precision and F-score are ill-defined and being set to 0.0 in labels with no predicted samples. Use `zero_division` parameter to control this behavior.\n",
            "  _warn_prf(average, modifier, msg_start, len(result))\n",
            "/usr/local/lib/python3.10/dist-packages/sklearn/metrics/_classification.py:1344: UndefinedMetricWarning: Recall and F-score are ill-defined and being set to 0.0 in labels with no true samples. Use `zero_division` parameter to control this behavior.\n",
            "  _warn_prf(average, modifier, msg_start, len(result))\n",
            "/usr/local/lib/python3.10/dist-packages/sklearn/metrics/_classification.py:1344: UndefinedMetricWarning: Precision and F-score are ill-defined and being set to 0.0 in labels with no predicted samples. Use `zero_division` parameter to control this behavior.\n",
            "  _warn_prf(average, modifier, msg_start, len(result))\n",
            "/usr/local/lib/python3.10/dist-packages/sklearn/metrics/_classification.py:1344: UndefinedMetricWarning: Recall and F-score are ill-defined and being set to 0.0 in labels with no true samples. Use `zero_division` parameter to control this behavior.\n",
            "  _warn_prf(average, modifier, msg_start, len(result))\n"
          ]
        }
      ]
    },
    {
      "cell_type": "markdown",
      "source": [
        "## **Train RandomForest**"
      ],
      "metadata": {
        "id": "uVw9IVg2c9p6"
      }
    },
    {
      "cell_type": "code",
      "source": [
        "from sklearn.ensemble import RandomForestClassifier\n",
        "from sklearn.model_selection import train_test_split\n",
        "from sklearn.metrics import accuracy_score, confusion_matrix, classification_report\n",
        "import joblib\n",
        "\n",
        "# Load saved features and corresponding labels\n",
        "X, y = [], []\n",
        "features_dataset_path = '/content/features_dataset_vgg16'\n",
        "for class_folder in os.listdir(features_dataset_path):\n",
        "    class_path = os.path.join(features_dataset_path, class_folder)\n",
        "    for features_file_name in os.listdir(class_path):\n",
        "        features_file_path = os.path.join(class_path, features_file_name)\n",
        "        features = np.load(features_file_path)\n",
        "        X.append(features)\n",
        "        y.append(class_folder)\n",
        "\n",
        "# Split the dataset\n",
        "X_train, X_test, y_train, y_test = train_test_split(X, y, test_size=0.2, random_state=42)\n",
        "\n",
        "# Train a RandomForest classifier\n",
        "classifier_rf = RandomForestClassifier(n_estimators=100, random_state=42)\n",
        "classifier_rf.fit(X_train, y_train)\n",
        "\n",
        "# Make predictions on the test set\n",
        "y_pred_rf = classifier_rf.predict(X_test)\n",
        "\n",
        "# Evaluate accuracy\n",
        "accuracy_rf = accuracy_score(y_test, y_pred_rf)\n",
        "print(f\"Random Forest Classifier Accuracy: {accuracy_rf}\")\n",
        "\n",
        "# Print the confusion matrix\n",
        "conf_matrix_rf = confusion_matrix(y_test, y_pred_rf)\n",
        "print(\"Confusion Matrix:\")\n",
        "print(conf_matrix_rf)\n",
        "\n",
        "# Print the classification report\n",
        "class_report_rf = classification_report(y_test, y_pred_rf)\n",
        "print(\"Classification Report:\")\n",
        "print(class_report_rf)\n",
        "\n",
        "# Save the trained RandomForest model\n",
        "model_filename_rf = \"randomforest_model.pkl\"\n",
        "\n",
        "# Check if a saved model exists, delete it if it does\n",
        "if os.path.exists(model_filename_rf):\n",
        "    os.remove(model_filename_rf)\n",
        "\n",
        "# Save the new model\n",
        "joblib.dump(classifier_rf, model_filename_rf)\n",
        "print(f\"RandomForest Model saved as {model_filename_rf}\")"
      ],
      "metadata": {
        "colab": {
          "base_uri": "https://localhost:8080/"
        },
        "id": "Qa4TxU5TrXZL",
        "outputId": "a7c93e8a-79b5-4aea-e694-85beec197f9d"
      },
      "execution_count": 16,
      "outputs": [
        {
          "output_type": "stream",
          "name": "stdout",
          "text": [
            "Random Forest Classifier Accuracy: 0.3333333333333333\n",
            "Confusion Matrix:\n",
            "[[1 0 0 0 3 0]\n",
            " [1 0 0 0 1 0]\n",
            " [0 0 3 0 0 0]\n",
            " [2 0 0 0 0 0]\n",
            " [0 0 0 0 0 0]\n",
            " [0 0 0 0 1 0]]\n",
            "Classification Report:\n",
            "              precision    recall  f1-score   support\n",
            "\n",
            "        Adan       0.25      0.25      0.25         4\n",
            "   Shah Wali       0.00      0.00      0.00         2\n",
            "      Shahab       1.00      1.00      1.00         3\n",
            "        Taha       0.00      0.00      0.00         2\n",
            "     Tehseen       0.00      0.00      0.00         0\n",
            "        Umer       0.00      0.00      0.00         1\n",
            "\n",
            "    accuracy                           0.33        12\n",
            "   macro avg       0.21      0.21      0.21        12\n",
            "weighted avg       0.33      0.33      0.33        12\n",
            "\n",
            "RandomForest Model saved as randomforest_model.pkl\n"
          ]
        },
        {
          "output_type": "stream",
          "name": "stderr",
          "text": [
            "/usr/local/lib/python3.10/dist-packages/sklearn/metrics/_classification.py:1344: UndefinedMetricWarning: Precision and F-score are ill-defined and being set to 0.0 in labels with no predicted samples. Use `zero_division` parameter to control this behavior.\n",
            "  _warn_prf(average, modifier, msg_start, len(result))\n",
            "/usr/local/lib/python3.10/dist-packages/sklearn/metrics/_classification.py:1344: UndefinedMetricWarning: Recall and F-score are ill-defined and being set to 0.0 in labels with no true samples. Use `zero_division` parameter to control this behavior.\n",
            "  _warn_prf(average, modifier, msg_start, len(result))\n",
            "/usr/local/lib/python3.10/dist-packages/sklearn/metrics/_classification.py:1344: UndefinedMetricWarning: Precision and F-score are ill-defined and being set to 0.0 in labels with no predicted samples. Use `zero_division` parameter to control this behavior.\n",
            "  _warn_prf(average, modifier, msg_start, len(result))\n",
            "/usr/local/lib/python3.10/dist-packages/sklearn/metrics/_classification.py:1344: UndefinedMetricWarning: Recall and F-score are ill-defined and being set to 0.0 in labels with no true samples. Use `zero_division` parameter to control this behavior.\n",
            "  _warn_prf(average, modifier, msg_start, len(result))\n",
            "/usr/local/lib/python3.10/dist-packages/sklearn/metrics/_classification.py:1344: UndefinedMetricWarning: Precision and F-score are ill-defined and being set to 0.0 in labels with no predicted samples. Use `zero_division` parameter to control this behavior.\n",
            "  _warn_prf(average, modifier, msg_start, len(result))\n",
            "/usr/local/lib/python3.10/dist-packages/sklearn/metrics/_classification.py:1344: UndefinedMetricWarning: Recall and F-score are ill-defined and being set to 0.0 in labels with no true samples. Use `zero_division` parameter to control this behavior.\n",
            "  _warn_prf(average, modifier, msg_start, len(result))\n"
          ]
        }
      ]
    },
    {
      "cell_type": "markdown",
      "source": [
        "# **Train a Classifier on Facenet extracted features data**"
      ],
      "metadata": {
        "id": "EKnNtFNMd8Q1"
      }
    },
    {
      "cell_type": "markdown",
      "source": [
        "## **Train SVM**"
      ],
      "metadata": {
        "id": "dIwvECodeDwC"
      }
    },
    {
      "cell_type": "code",
      "source": [
        "from sklearn.svm import SVC\n",
        "from sklearn.model_selection import train_test_split\n",
        "from sklearn.metrics import accuracy_score, confusion_matrix, classification_report\n",
        "import joblib\n",
        "\n",
        "# Load saved features and corresponding labels\n",
        "X, y = [], []\n",
        "features_dataset_path = '/content/features_dataset_facenet'\n",
        "for class_folder in os.listdir(features_dataset_path):\n",
        "    class_path = os.path.join(features_dataset_path, class_folder)\n",
        "    for features_file_name in os.listdir(class_path):\n",
        "        features_file_path = os.path.join(class_path, features_file_name)\n",
        "        features = np.load(features_file_path)\n",
        "        X.append(features)\n",
        "        y.append(class_folder)\n",
        "\n",
        "# Split the dataset\n",
        "X_train, X_test, y_train, y_test = train_test_split(X, y, test_size=0.2, random_state=42)\n",
        "\n",
        "# Train an SVM classifier\n",
        "classifier = SVC(kernel='linear')\n",
        "classifier.fit(X_train, y_train)\n",
        "\n",
        "# Make predictions on the test set\n",
        "y_pred = classifier.predict(X_test)\n",
        "\n",
        "# Evaluate accuracy\n",
        "accuracy = accuracy_score(y_test, y_pred)\n",
        "print(f\"Accuracy: {accuracy}\")\n",
        "\n",
        "# Print the confusion matrix\n",
        "conf_matrix = confusion_matrix(y_test, y_pred)\n",
        "print(\"Confusion Matrix:\")\n",
        "print(conf_matrix)\n",
        "\n",
        "# Print the classification report\n",
        "class_report = classification_report(y_test, y_pred)\n",
        "print(\"Classification Report:\")\n",
        "print(class_report)\n",
        "\n",
        "# Save the trained SVM model\n",
        "model_filename = \"svm_model.pkl\"\n",
        "\n",
        "# Check if a saved model exists, delete it if it does\n",
        "if os.path.exists(model_filename):\n",
        "    os.remove(model_filename)\n",
        "\n",
        "# Save the new model\n",
        "joblib.dump(classifier, model_filename)\n",
        "print(f\"Model saved as {model_filename}\")"
      ],
      "metadata": {
        "id": "O_giy4asLcah",
        "colab": {
          "base_uri": "https://localhost:8080/"
        },
        "outputId": "cef8fdeb-eb8d-4097-d8aa-5aa6801c1926"
      },
      "execution_count": 17,
      "outputs": [
        {
          "output_type": "stream",
          "name": "stdout",
          "text": [
            "Accuracy: 0.0\n",
            "Confusion Matrix:\n",
            "[[0 0 0 0 4 0]\n",
            " [0 0 0 0 2 0]\n",
            " [0 0 0 0 3 0]\n",
            " [0 0 0 0 2 0]\n",
            " [0 0 0 0 0 0]\n",
            " [0 0 0 0 1 0]]\n",
            "Classification Report:\n",
            "              precision    recall  f1-score   support\n",
            "\n",
            "        Adan       0.00      0.00      0.00       4.0\n",
            "   Shah Wali       0.00      0.00      0.00       2.0\n",
            "      Shahab       0.00      0.00      0.00       3.0\n",
            "        Taha       0.00      0.00      0.00       2.0\n",
            "     Tehseen       0.00      0.00      0.00       0.0\n",
            "        Umer       0.00      0.00      0.00       1.0\n",
            "\n",
            "    accuracy                           0.00      12.0\n",
            "   macro avg       0.00      0.00      0.00      12.0\n",
            "weighted avg       0.00      0.00      0.00      12.0\n",
            "\n",
            "Model saved as svm_model.pkl\n"
          ]
        },
        {
          "output_type": "stream",
          "name": "stderr",
          "text": [
            "/usr/local/lib/python3.10/dist-packages/sklearn/metrics/_classification.py:1344: UndefinedMetricWarning: Precision and F-score are ill-defined and being set to 0.0 in labels with no predicted samples. Use `zero_division` parameter to control this behavior.\n",
            "  _warn_prf(average, modifier, msg_start, len(result))\n",
            "/usr/local/lib/python3.10/dist-packages/sklearn/metrics/_classification.py:1344: UndefinedMetricWarning: Recall and F-score are ill-defined and being set to 0.0 in labels with no true samples. Use `zero_division` parameter to control this behavior.\n",
            "  _warn_prf(average, modifier, msg_start, len(result))\n",
            "/usr/local/lib/python3.10/dist-packages/sklearn/metrics/_classification.py:1344: UndefinedMetricWarning: Precision and F-score are ill-defined and being set to 0.0 in labels with no predicted samples. Use `zero_division` parameter to control this behavior.\n",
            "  _warn_prf(average, modifier, msg_start, len(result))\n",
            "/usr/local/lib/python3.10/dist-packages/sklearn/metrics/_classification.py:1344: UndefinedMetricWarning: Recall and F-score are ill-defined and being set to 0.0 in labels with no true samples. Use `zero_division` parameter to control this behavior.\n",
            "  _warn_prf(average, modifier, msg_start, len(result))\n",
            "/usr/local/lib/python3.10/dist-packages/sklearn/metrics/_classification.py:1344: UndefinedMetricWarning: Precision and F-score are ill-defined and being set to 0.0 in labels with no predicted samples. Use `zero_division` parameter to control this behavior.\n",
            "  _warn_prf(average, modifier, msg_start, len(result))\n",
            "/usr/local/lib/python3.10/dist-packages/sklearn/metrics/_classification.py:1344: UndefinedMetricWarning: Recall and F-score are ill-defined and being set to 0.0 in labels with no true samples. Use `zero_division` parameter to control this behavior.\n",
            "  _warn_prf(average, modifier, msg_start, len(result))\n"
          ]
        }
      ]
    },
    {
      "cell_type": "markdown",
      "source": [
        "## **Train RandomForest**\n"
      ],
      "metadata": {
        "id": "JrBuek4geEbQ"
      }
    },
    {
      "cell_type": "code",
      "source": [
        "from sklearn.ensemble import RandomForestClassifier\n",
        "from sklearn.model_selection import train_test_split\n",
        "from sklearn.metrics import accuracy_score, confusion_matrix, classification_report\n",
        "import joblib\n",
        "\n",
        "# Load saved features and corresponding labels\n",
        "X, y = [], []\n",
        "features_dataset_path = '/content/features_dataset_facenet'\n",
        "for class_folder in os.listdir(features_dataset_path):\n",
        "    class_path = os.path.join(features_dataset_path, class_folder)\n",
        "    for features_file_name in os.listdir(class_path):\n",
        "        features_file_path = os.path.join(class_path, features_file_name)\n",
        "        features = np.load(features_file_path)\n",
        "        X.append(features)\n",
        "        y.append(class_folder)\n",
        "\n",
        "# Split the dataset\n",
        "X_train, X_test, y_train, y_test = train_test_split(X, y, test_size=0.2, random_state=42)\n",
        "\n",
        "# Train a RandomForest classifier\n",
        "classifier_rf = RandomForestClassifier(n_estimators=100, random_state=42)\n",
        "classifier_rf.fit(X_train, y_train)\n",
        "\n",
        "# Make predictions on the test set\n",
        "y_pred_rf = classifier_rf.predict(X_test)\n",
        "\n",
        "# Evaluate accuracy\n",
        "accuracy_rf = accuracy_score(y_test, y_pred_rf)\n",
        "print(f\"Random Forest Classifier Accuracy: {accuracy_rf}\")\n",
        "\n",
        "# Print the confusion matrix\n",
        "conf_matrix_rf = confusion_matrix(y_test, y_pred_rf)\n",
        "print(\"Confusion Matrix:\")\n",
        "print(conf_matrix_rf)\n",
        "\n",
        "# Print the classification report\n",
        "class_report_rf = classification_report(y_test, y_pred_rf)\n",
        "print(\"Classification Report:\")\n",
        "print(class_report_rf)\n",
        "\n",
        "# Save the trained RandomForest model\n",
        "model_filename_rf = \"randomforest_model.pkl\"\n",
        "\n",
        "# Check if a saved model exists, delete it if it does\n",
        "if os.path.exists(model_filename_rf):\n",
        "    os.remove(model_filename_rf)\n",
        "\n",
        "# Save the new model\n",
        "joblib.dump(classifier_rf, model_filename_rf)\n",
        "print(f\"RandomForest Model saved as {model_filename_rf}\")"
      ],
      "metadata": {
        "colab": {
          "base_uri": "https://localhost:8080/"
        },
        "id": "C7QmQc2xeK7b",
        "outputId": "4213f187-03c4-4614-9e94-9c9a590e9756"
      },
      "execution_count": 19,
      "outputs": [
        {
          "output_type": "stream",
          "name": "stdout",
          "text": [
            "Random Forest Classifier Accuracy: 0.08333333333333333\n",
            "Confusion Matrix:\n",
            "[[0 0 0 0 0 4 0]\n",
            " [0 0 0 0 0 0 0]\n",
            " [0 2 0 0 0 0 0]\n",
            " [1 0 0 1 0 0 1]\n",
            " [0 0 0 0 0 2 0]\n",
            " [0 0 0 0 0 0 0]\n",
            " [0 0 0 0 0 1 0]]\n",
            "Classification Report:\n",
            "              precision    recall  f1-score   support\n",
            "\n",
            "        Adan       0.00      0.00      0.00         4\n",
            "       Annas       0.00      0.00      0.00         0\n",
            "   Shah Wali       0.00      0.00      0.00         2\n",
            "      Shahab       1.00      0.33      0.50         3\n",
            "        Taha       0.00      0.00      0.00         2\n",
            "     Tehseen       0.00      0.00      0.00         0\n",
            "        Umer       0.00      0.00      0.00         1\n",
            "\n",
            "    accuracy                           0.08        12\n",
            "   macro avg       0.14      0.05      0.07        12\n",
            "weighted avg       0.25      0.08      0.12        12\n",
            "\n"
          ]
        },
        {
          "output_type": "stream",
          "name": "stderr",
          "text": [
            "/usr/local/lib/python3.10/dist-packages/sklearn/metrics/_classification.py:1344: UndefinedMetricWarning: Precision and F-score are ill-defined and being set to 0.0 in labels with no predicted samples. Use `zero_division` parameter to control this behavior.\n",
            "  _warn_prf(average, modifier, msg_start, len(result))\n",
            "/usr/local/lib/python3.10/dist-packages/sklearn/metrics/_classification.py:1344: UndefinedMetricWarning: Recall and F-score are ill-defined and being set to 0.0 in labels with no true samples. Use `zero_division` parameter to control this behavior.\n",
            "  _warn_prf(average, modifier, msg_start, len(result))\n",
            "/usr/local/lib/python3.10/dist-packages/sklearn/metrics/_classification.py:1344: UndefinedMetricWarning: Precision and F-score are ill-defined and being set to 0.0 in labels with no predicted samples. Use `zero_division` parameter to control this behavior.\n",
            "  _warn_prf(average, modifier, msg_start, len(result))\n",
            "/usr/local/lib/python3.10/dist-packages/sklearn/metrics/_classification.py:1344: UndefinedMetricWarning: Recall and F-score are ill-defined and being set to 0.0 in labels with no true samples. Use `zero_division` parameter to control this behavior.\n",
            "  _warn_prf(average, modifier, msg_start, len(result))\n",
            "/usr/local/lib/python3.10/dist-packages/sklearn/metrics/_classification.py:1344: UndefinedMetricWarning: Precision and F-score are ill-defined and being set to 0.0 in labels with no predicted samples. Use `zero_division` parameter to control this behavior.\n",
            "  _warn_prf(average, modifier, msg_start, len(result))\n",
            "/usr/local/lib/python3.10/dist-packages/sklearn/metrics/_classification.py:1344: UndefinedMetricWarning: Recall and F-score are ill-defined and being set to 0.0 in labels with no true samples. Use `zero_division` parameter to control this behavior.\n",
            "  _warn_prf(average, modifier, msg_start, len(result))\n"
          ]
        },
        {
          "output_type": "stream",
          "name": "stdout",
          "text": [
            "RandomForest Model saved as randomforest_model.pkl\n"
          ]
        }
      ]
    },
    {
      "cell_type": "code",
      "source": [],
      "metadata": {
        "id": "WzbUjCI9gBm_"
      },
      "execution_count": null,
      "outputs": []
    }
  ],
  "metadata": {
    "colab": {
      "provenance": []
    },
    "kernelspec": {
      "display_name": "Python 3",
      "name": "python3"
    },
    "language_info": {
      "name": "python"
    },
    "widgets": {
      "application/vnd.jupyter.widget-state+json": {
        "d3a2f232f4b5433eb97e260a821a4213": {
          "model_module": "@jupyter-widgets/controls",
          "model_name": "HBoxModel",
          "model_module_version": "1.5.0",
          "state": {
            "_dom_classes": [],
            "_model_module": "@jupyter-widgets/controls",
            "_model_module_version": "1.5.0",
            "_model_name": "HBoxModel",
            "_view_count": null,
            "_view_module": "@jupyter-widgets/controls",
            "_view_module_version": "1.5.0",
            "_view_name": "HBoxView",
            "box_style": "",
            "children": [
              "IPY_MODEL_77d2b5f91b904b49986dd979fe0d72a8",
              "IPY_MODEL_edb313497b0041b68d3afae621e6ffb7",
              "IPY_MODEL_e86c2e017dfc4e2fb99df1a91b501b62"
            ],
            "layout": "IPY_MODEL_35cfbaf2ce64422b92828455a3533310"
          }
        },
        "77d2b5f91b904b49986dd979fe0d72a8": {
          "model_module": "@jupyter-widgets/controls",
          "model_name": "HTMLModel",
          "model_module_version": "1.5.0",
          "state": {
            "_dom_classes": [],
            "_model_module": "@jupyter-widgets/controls",
            "_model_module_version": "1.5.0",
            "_model_name": "HTMLModel",
            "_view_count": null,
            "_view_module": "@jupyter-widgets/controls",
            "_view_module_version": "1.5.0",
            "_view_name": "HTMLView",
            "description": "",
            "description_tooltip": null,
            "layout": "IPY_MODEL_41bcbcbad6d04583964f32b36a2a296a",
            "placeholder": "​",
            "style": "IPY_MODEL_22facc5f75e04cffb3b0fd38ba377e14",
            "value": "100%"
          }
        },
        "edb313497b0041b68d3afae621e6ffb7": {
          "model_module": "@jupyter-widgets/controls",
          "model_name": "FloatProgressModel",
          "model_module_version": "1.5.0",
          "state": {
            "_dom_classes": [],
            "_model_module": "@jupyter-widgets/controls",
            "_model_module_version": "1.5.0",
            "_model_name": "FloatProgressModel",
            "_view_count": null,
            "_view_module": "@jupyter-widgets/controls",
            "_view_module_version": "1.5.0",
            "_view_name": "ProgressView",
            "bar_style": "success",
            "description": "",
            "description_tooltip": null,
            "layout": "IPY_MODEL_f4b1e9e262c74398a63a556d4a78d0dc",
            "max": 111898327,
            "min": 0,
            "orientation": "horizontal",
            "style": "IPY_MODEL_625888d1175544df86e1a78142eb7b5c",
            "value": 111898327
          }
        },
        "e86c2e017dfc4e2fb99df1a91b501b62": {
          "model_module": "@jupyter-widgets/controls",
          "model_name": "HTMLModel",
          "model_module_version": "1.5.0",
          "state": {
            "_dom_classes": [],
            "_model_module": "@jupyter-widgets/controls",
            "_model_module_version": "1.5.0",
            "_model_name": "HTMLModel",
            "_view_count": null,
            "_view_module": "@jupyter-widgets/controls",
            "_view_module_version": "1.5.0",
            "_view_name": "HTMLView",
            "description": "",
            "description_tooltip": null,
            "layout": "IPY_MODEL_fa09f119945646ec9c9bf85fcc74cfec",
            "placeholder": "​",
            "style": "IPY_MODEL_9fa3a1975e4049ebb42ce9a3febb4531",
            "value": " 107M/107M [00:00&lt;00:00, 201MB/s]"
          }
        },
        "35cfbaf2ce64422b92828455a3533310": {
          "model_module": "@jupyter-widgets/base",
          "model_name": "LayoutModel",
          "model_module_version": "1.2.0",
          "state": {
            "_model_module": "@jupyter-widgets/base",
            "_model_module_version": "1.2.0",
            "_model_name": "LayoutModel",
            "_view_count": null,
            "_view_module": "@jupyter-widgets/base",
            "_view_module_version": "1.2.0",
            "_view_name": "LayoutView",
            "align_content": null,
            "align_items": null,
            "align_self": null,
            "border": null,
            "bottom": null,
            "display": null,
            "flex": null,
            "flex_flow": null,
            "grid_area": null,
            "grid_auto_columns": null,
            "grid_auto_flow": null,
            "grid_auto_rows": null,
            "grid_column": null,
            "grid_gap": null,
            "grid_row": null,
            "grid_template_areas": null,
            "grid_template_columns": null,
            "grid_template_rows": null,
            "height": null,
            "justify_content": null,
            "justify_items": null,
            "left": null,
            "margin": null,
            "max_height": null,
            "max_width": null,
            "min_height": null,
            "min_width": null,
            "object_fit": null,
            "object_position": null,
            "order": null,
            "overflow": null,
            "overflow_x": null,
            "overflow_y": null,
            "padding": null,
            "right": null,
            "top": null,
            "visibility": null,
            "width": null
          }
        },
        "41bcbcbad6d04583964f32b36a2a296a": {
          "model_module": "@jupyter-widgets/base",
          "model_name": "LayoutModel",
          "model_module_version": "1.2.0",
          "state": {
            "_model_module": "@jupyter-widgets/base",
            "_model_module_version": "1.2.0",
            "_model_name": "LayoutModel",
            "_view_count": null,
            "_view_module": "@jupyter-widgets/base",
            "_view_module_version": "1.2.0",
            "_view_name": "LayoutView",
            "align_content": null,
            "align_items": null,
            "align_self": null,
            "border": null,
            "bottom": null,
            "display": null,
            "flex": null,
            "flex_flow": null,
            "grid_area": null,
            "grid_auto_columns": null,
            "grid_auto_flow": null,
            "grid_auto_rows": null,
            "grid_column": null,
            "grid_gap": null,
            "grid_row": null,
            "grid_template_areas": null,
            "grid_template_columns": null,
            "grid_template_rows": null,
            "height": null,
            "justify_content": null,
            "justify_items": null,
            "left": null,
            "margin": null,
            "max_height": null,
            "max_width": null,
            "min_height": null,
            "min_width": null,
            "object_fit": null,
            "object_position": null,
            "order": null,
            "overflow": null,
            "overflow_x": null,
            "overflow_y": null,
            "padding": null,
            "right": null,
            "top": null,
            "visibility": null,
            "width": null
          }
        },
        "22facc5f75e04cffb3b0fd38ba377e14": {
          "model_module": "@jupyter-widgets/controls",
          "model_name": "DescriptionStyleModel",
          "model_module_version": "1.5.0",
          "state": {
            "_model_module": "@jupyter-widgets/controls",
            "_model_module_version": "1.5.0",
            "_model_name": "DescriptionStyleModel",
            "_view_count": null,
            "_view_module": "@jupyter-widgets/base",
            "_view_module_version": "1.2.0",
            "_view_name": "StyleView",
            "description_width": ""
          }
        },
        "f4b1e9e262c74398a63a556d4a78d0dc": {
          "model_module": "@jupyter-widgets/base",
          "model_name": "LayoutModel",
          "model_module_version": "1.2.0",
          "state": {
            "_model_module": "@jupyter-widgets/base",
            "_model_module_version": "1.2.0",
            "_model_name": "LayoutModel",
            "_view_count": null,
            "_view_module": "@jupyter-widgets/base",
            "_view_module_version": "1.2.0",
            "_view_name": "LayoutView",
            "align_content": null,
            "align_items": null,
            "align_self": null,
            "border": null,
            "bottom": null,
            "display": null,
            "flex": null,
            "flex_flow": null,
            "grid_area": null,
            "grid_auto_columns": null,
            "grid_auto_flow": null,
            "grid_auto_rows": null,
            "grid_column": null,
            "grid_gap": null,
            "grid_row": null,
            "grid_template_areas": null,
            "grid_template_columns": null,
            "grid_template_rows": null,
            "height": null,
            "justify_content": null,
            "justify_items": null,
            "left": null,
            "margin": null,
            "max_height": null,
            "max_width": null,
            "min_height": null,
            "min_width": null,
            "object_fit": null,
            "object_position": null,
            "order": null,
            "overflow": null,
            "overflow_x": null,
            "overflow_y": null,
            "padding": null,
            "right": null,
            "top": null,
            "visibility": null,
            "width": null
          }
        },
        "625888d1175544df86e1a78142eb7b5c": {
          "model_module": "@jupyter-widgets/controls",
          "model_name": "ProgressStyleModel",
          "model_module_version": "1.5.0",
          "state": {
            "_model_module": "@jupyter-widgets/controls",
            "_model_module_version": "1.5.0",
            "_model_name": "ProgressStyleModel",
            "_view_count": null,
            "_view_module": "@jupyter-widgets/base",
            "_view_module_version": "1.2.0",
            "_view_name": "StyleView",
            "bar_color": null,
            "description_width": ""
          }
        },
        "fa09f119945646ec9c9bf85fcc74cfec": {
          "model_module": "@jupyter-widgets/base",
          "model_name": "LayoutModel",
          "model_module_version": "1.2.0",
          "state": {
            "_model_module": "@jupyter-widgets/base",
            "_model_module_version": "1.2.0",
            "_model_name": "LayoutModel",
            "_view_count": null,
            "_view_module": "@jupyter-widgets/base",
            "_view_module_version": "1.2.0",
            "_view_name": "LayoutView",
            "align_content": null,
            "align_items": null,
            "align_self": null,
            "border": null,
            "bottom": null,
            "display": null,
            "flex": null,
            "flex_flow": null,
            "grid_area": null,
            "grid_auto_columns": null,
            "grid_auto_flow": null,
            "grid_auto_rows": null,
            "grid_column": null,
            "grid_gap": null,
            "grid_row": null,
            "grid_template_areas": null,
            "grid_template_columns": null,
            "grid_template_rows": null,
            "height": null,
            "justify_content": null,
            "justify_items": null,
            "left": null,
            "margin": null,
            "max_height": null,
            "max_width": null,
            "min_height": null,
            "min_width": null,
            "object_fit": null,
            "object_position": null,
            "order": null,
            "overflow": null,
            "overflow_x": null,
            "overflow_y": null,
            "padding": null,
            "right": null,
            "top": null,
            "visibility": null,
            "width": null
          }
        },
        "9fa3a1975e4049ebb42ce9a3febb4531": {
          "model_module": "@jupyter-widgets/controls",
          "model_name": "DescriptionStyleModel",
          "model_module_version": "1.5.0",
          "state": {
            "_model_module": "@jupyter-widgets/controls",
            "_model_module_version": "1.5.0",
            "_model_name": "DescriptionStyleModel",
            "_view_count": null,
            "_view_module": "@jupyter-widgets/base",
            "_view_module_version": "1.2.0",
            "_view_name": "StyleView",
            "description_width": ""
          }
        }
      }
    }
  },
  "nbformat": 4,
  "nbformat_minor": 0
}